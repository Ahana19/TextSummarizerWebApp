{
  "nbformat": 4,
  "nbformat_minor": 0,
  "metadata": {
    "colab": {
      "provenance": [],
      "authorship_tag": "ABX9TyMXVcWWL1ZSaWS/k87uPlA2",
      "include_colab_link": true
    },
    "kernelspec": {
      "name": "python3",
      "display_name": "Python 3"
    },
    "language_info": {
      "name": "python"
    }
  },
  "cells": [
    {
      "cell_type": "markdown",
      "metadata": {
        "id": "view-in-github",
        "colab_type": "text"
      },
      "source": [
        "<a href=\"https://colab.research.google.com/github/Ahana19/TextSummarizerWebApp/blob/master/TextSummarizer.ipynb\" target=\"_parent\"><img src=\"https://colab.research.google.com/assets/colab-badge.svg\" alt=\"Open In Colab\"/></a>"
      ]
    },
    {
      "cell_type": "code",
      "execution_count": null,
      "metadata": {
        "colab": {
          "base_uri": "https://localhost:8080/"
        },
        "id": "LfyFL_7p3Vca",
        "outputId": "d07227d7-d2a1-4b14-8014-00fdda6b9623"
      },
      "outputs": [
        {
          "output_type": "stream",
          "name": "stdout",
          "text": [
            "Requirement already satisfied: spacy in /usr/local/lib/python3.10/dist-packages (3.7.4)\n",
            "Requirement already satisfied: spacy-legacy<3.1.0,>=3.0.11 in /usr/local/lib/python3.10/dist-packages (from spacy) (3.0.12)\n",
            "Requirement already satisfied: spacy-loggers<2.0.0,>=1.0.0 in /usr/local/lib/python3.10/dist-packages (from spacy) (1.0.5)\n",
            "Requirement already satisfied: murmurhash<1.1.0,>=0.28.0 in /usr/local/lib/python3.10/dist-packages (from spacy) (1.0.10)\n",
            "Requirement already satisfied: cymem<2.1.0,>=2.0.2 in /usr/local/lib/python3.10/dist-packages (from spacy) (2.0.8)\n",
            "Requirement already satisfied: preshed<3.1.0,>=3.0.2 in /usr/local/lib/python3.10/dist-packages (from spacy) (3.0.9)\n",
            "Requirement already satisfied: thinc<8.3.0,>=8.2.2 in /usr/local/lib/python3.10/dist-packages (from spacy) (8.2.3)\n",
            "Requirement already satisfied: wasabi<1.2.0,>=0.9.1 in /usr/local/lib/python3.10/dist-packages (from spacy) (1.1.2)\n",
            "Requirement already satisfied: srsly<3.0.0,>=2.4.3 in /usr/local/lib/python3.10/dist-packages (from spacy) (2.4.8)\n",
            "Requirement already satisfied: catalogue<2.1.0,>=2.0.6 in /usr/local/lib/python3.10/dist-packages (from spacy) (2.0.10)\n",
            "Requirement already satisfied: weasel<0.4.0,>=0.1.0 in /usr/local/lib/python3.10/dist-packages (from spacy) (0.3.4)\n",
            "Requirement already satisfied: typer<0.10.0,>=0.3.0 in /usr/local/lib/python3.10/dist-packages (from spacy) (0.9.4)\n",
            "Requirement already satisfied: smart-open<7.0.0,>=5.2.1 in /usr/local/lib/python3.10/dist-packages (from spacy) (6.4.0)\n",
            "Requirement already satisfied: tqdm<5.0.0,>=4.38.0 in /usr/local/lib/python3.10/dist-packages (from spacy) (4.66.4)\n",
            "Requirement already satisfied: requests<3.0.0,>=2.13.0 in /usr/local/lib/python3.10/dist-packages (from spacy) (2.31.0)\n",
            "Requirement already satisfied: pydantic!=1.8,!=1.8.1,<3.0.0,>=1.7.4 in /usr/local/lib/python3.10/dist-packages (from spacy) (2.7.1)\n",
            "Requirement already satisfied: jinja2 in /usr/local/lib/python3.10/dist-packages (from spacy) (3.1.4)\n",
            "Requirement already satisfied: setuptools in /usr/local/lib/python3.10/dist-packages (from spacy) (67.7.2)\n",
            "Requirement already satisfied: packaging>=20.0 in /usr/local/lib/python3.10/dist-packages (from spacy) (24.0)\n",
            "Requirement already satisfied: langcodes<4.0.0,>=3.2.0 in /usr/local/lib/python3.10/dist-packages (from spacy) (3.4.0)\n",
            "Requirement already satisfied: numpy>=1.19.0 in /usr/local/lib/python3.10/dist-packages (from spacy) (1.25.2)\n",
            "Requirement already satisfied: language-data>=1.2 in /usr/local/lib/python3.10/dist-packages (from langcodes<4.0.0,>=3.2.0->spacy) (1.2.0)\n",
            "Requirement already satisfied: annotated-types>=0.4.0 in /usr/local/lib/python3.10/dist-packages (from pydantic!=1.8,!=1.8.1,<3.0.0,>=1.7.4->spacy) (0.7.0)\n",
            "Requirement already satisfied: pydantic-core==2.18.2 in /usr/local/lib/python3.10/dist-packages (from pydantic!=1.8,!=1.8.1,<3.0.0,>=1.7.4->spacy) (2.18.2)\n",
            "Requirement already satisfied: typing-extensions>=4.6.1 in /usr/local/lib/python3.10/dist-packages (from pydantic!=1.8,!=1.8.1,<3.0.0,>=1.7.4->spacy) (4.11.0)\n",
            "Requirement already satisfied: charset-normalizer<4,>=2 in /usr/local/lib/python3.10/dist-packages (from requests<3.0.0,>=2.13.0->spacy) (3.3.2)\n",
            "Requirement already satisfied: idna<4,>=2.5 in /usr/local/lib/python3.10/dist-packages (from requests<3.0.0,>=2.13.0->spacy) (3.7)\n",
            "Requirement already satisfied: urllib3<3,>=1.21.1 in /usr/local/lib/python3.10/dist-packages (from requests<3.0.0,>=2.13.0->spacy) (2.0.7)\n",
            "Requirement already satisfied: certifi>=2017.4.17 in /usr/local/lib/python3.10/dist-packages (from requests<3.0.0,>=2.13.0->spacy) (2024.2.2)\n",
            "Requirement already satisfied: blis<0.8.0,>=0.7.8 in /usr/local/lib/python3.10/dist-packages (from thinc<8.3.0,>=8.2.2->spacy) (0.7.11)\n",
            "Requirement already satisfied: confection<1.0.0,>=0.0.1 in /usr/local/lib/python3.10/dist-packages (from thinc<8.3.0,>=8.2.2->spacy) (0.1.4)\n",
            "Requirement already satisfied: click<9.0.0,>=7.1.1 in /usr/local/lib/python3.10/dist-packages (from typer<0.10.0,>=0.3.0->spacy) (8.1.7)\n",
            "Requirement already satisfied: cloudpathlib<0.17.0,>=0.7.0 in /usr/local/lib/python3.10/dist-packages (from weasel<0.4.0,>=0.1.0->spacy) (0.16.0)\n",
            "Requirement already satisfied: MarkupSafe>=2.0 in /usr/local/lib/python3.10/dist-packages (from jinja2->spacy) (2.1.5)\n",
            "Requirement already satisfied: marisa-trie>=0.7.7 in /usr/local/lib/python3.10/dist-packages (from language-data>=1.2->langcodes<4.0.0,>=3.2.0->spacy) (1.1.1)\n",
            "Collecting en-core-web-sm==3.7.1\n",
            "  Downloading https://github.com/explosion/spacy-models/releases/download/en_core_web_sm-3.7.1/en_core_web_sm-3.7.1-py3-none-any.whl (12.8 MB)\n",
            "\u001b[2K     \u001b[90m━━━━━━━━━━━━━━━━━━━━━━━━━━━━━━━━━━━━━━━━\u001b[0m \u001b[32m12.8/12.8 MB\u001b[0m \u001b[31m22.4 MB/s\u001b[0m eta \u001b[36m0:00:00\u001b[0m\n",
            "\u001b[?25hRequirement already satisfied: spacy<3.8.0,>=3.7.2 in /usr/local/lib/python3.10/dist-packages (from en-core-web-sm==3.7.1) (3.7.4)\n",
            "Requirement already satisfied: spacy-legacy<3.1.0,>=3.0.11 in /usr/local/lib/python3.10/dist-packages (from spacy<3.8.0,>=3.7.2->en-core-web-sm==3.7.1) (3.0.12)\n",
            "Requirement already satisfied: spacy-loggers<2.0.0,>=1.0.0 in /usr/local/lib/python3.10/dist-packages (from spacy<3.8.0,>=3.7.2->en-core-web-sm==3.7.1) (1.0.5)\n",
            "Requirement already satisfied: murmurhash<1.1.0,>=0.28.0 in /usr/local/lib/python3.10/dist-packages (from spacy<3.8.0,>=3.7.2->en-core-web-sm==3.7.1) (1.0.10)\n",
            "Requirement already satisfied: cymem<2.1.0,>=2.0.2 in /usr/local/lib/python3.10/dist-packages (from spacy<3.8.0,>=3.7.2->en-core-web-sm==3.7.1) (2.0.8)\n",
            "Requirement already satisfied: preshed<3.1.0,>=3.0.2 in /usr/local/lib/python3.10/dist-packages (from spacy<3.8.0,>=3.7.2->en-core-web-sm==3.7.1) (3.0.9)\n",
            "Requirement already satisfied: thinc<8.3.0,>=8.2.2 in /usr/local/lib/python3.10/dist-packages (from spacy<3.8.0,>=3.7.2->en-core-web-sm==3.7.1) (8.2.3)\n",
            "Requirement already satisfied: wasabi<1.2.0,>=0.9.1 in /usr/local/lib/python3.10/dist-packages (from spacy<3.8.0,>=3.7.2->en-core-web-sm==3.7.1) (1.1.2)\n",
            "Requirement already satisfied: srsly<3.0.0,>=2.4.3 in /usr/local/lib/python3.10/dist-packages (from spacy<3.8.0,>=3.7.2->en-core-web-sm==3.7.1) (2.4.8)\n",
            "Requirement already satisfied: catalogue<2.1.0,>=2.0.6 in /usr/local/lib/python3.10/dist-packages (from spacy<3.8.0,>=3.7.2->en-core-web-sm==3.7.1) (2.0.10)\n",
            "Requirement already satisfied: weasel<0.4.0,>=0.1.0 in /usr/local/lib/python3.10/dist-packages (from spacy<3.8.0,>=3.7.2->en-core-web-sm==3.7.1) (0.3.4)\n",
            "Requirement already satisfied: typer<0.10.0,>=0.3.0 in /usr/local/lib/python3.10/dist-packages (from spacy<3.8.0,>=3.7.2->en-core-web-sm==3.7.1) (0.9.4)\n",
            "Requirement already satisfied: smart-open<7.0.0,>=5.2.1 in /usr/local/lib/python3.10/dist-packages (from spacy<3.8.0,>=3.7.2->en-core-web-sm==3.7.1) (6.4.0)\n",
            "Requirement already satisfied: tqdm<5.0.0,>=4.38.0 in /usr/local/lib/python3.10/dist-packages (from spacy<3.8.0,>=3.7.2->en-core-web-sm==3.7.1) (4.66.4)\n",
            "Requirement already satisfied: requests<3.0.0,>=2.13.0 in /usr/local/lib/python3.10/dist-packages (from spacy<3.8.0,>=3.7.2->en-core-web-sm==3.7.1) (2.31.0)\n",
            "Requirement already satisfied: pydantic!=1.8,!=1.8.1,<3.0.0,>=1.7.4 in /usr/local/lib/python3.10/dist-packages (from spacy<3.8.0,>=3.7.2->en-core-web-sm==3.7.1) (2.7.1)\n",
            "Requirement already satisfied: jinja2 in /usr/local/lib/python3.10/dist-packages (from spacy<3.8.0,>=3.7.2->en-core-web-sm==3.7.1) (3.1.4)\n",
            "Requirement already satisfied: setuptools in /usr/local/lib/python3.10/dist-packages (from spacy<3.8.0,>=3.7.2->en-core-web-sm==3.7.1) (67.7.2)\n",
            "Requirement already satisfied: packaging>=20.0 in /usr/local/lib/python3.10/dist-packages (from spacy<3.8.0,>=3.7.2->en-core-web-sm==3.7.1) (24.0)\n",
            "Requirement already satisfied: langcodes<4.0.0,>=3.2.0 in /usr/local/lib/python3.10/dist-packages (from spacy<3.8.0,>=3.7.2->en-core-web-sm==3.7.1) (3.4.0)\n",
            "Requirement already satisfied: numpy>=1.19.0 in /usr/local/lib/python3.10/dist-packages (from spacy<3.8.0,>=3.7.2->en-core-web-sm==3.7.1) (1.25.2)\n",
            "Requirement already satisfied: language-data>=1.2 in /usr/local/lib/python3.10/dist-packages (from langcodes<4.0.0,>=3.2.0->spacy<3.8.0,>=3.7.2->en-core-web-sm==3.7.1) (1.2.0)\n",
            "Requirement already satisfied: annotated-types>=0.4.0 in /usr/local/lib/python3.10/dist-packages (from pydantic!=1.8,!=1.8.1,<3.0.0,>=1.7.4->spacy<3.8.0,>=3.7.2->en-core-web-sm==3.7.1) (0.7.0)\n",
            "Requirement already satisfied: pydantic-core==2.18.2 in /usr/local/lib/python3.10/dist-packages (from pydantic!=1.8,!=1.8.1,<3.0.0,>=1.7.4->spacy<3.8.0,>=3.7.2->en-core-web-sm==3.7.1) (2.18.2)\n",
            "Requirement already satisfied: typing-extensions>=4.6.1 in /usr/local/lib/python3.10/dist-packages (from pydantic!=1.8,!=1.8.1,<3.0.0,>=1.7.4->spacy<3.8.0,>=3.7.2->en-core-web-sm==3.7.1) (4.11.0)\n",
            "Requirement already satisfied: charset-normalizer<4,>=2 in /usr/local/lib/python3.10/dist-packages (from requests<3.0.0,>=2.13.0->spacy<3.8.0,>=3.7.2->en-core-web-sm==3.7.1) (3.3.2)\n",
            "Requirement already satisfied: idna<4,>=2.5 in /usr/local/lib/python3.10/dist-packages (from requests<3.0.0,>=2.13.0->spacy<3.8.0,>=3.7.2->en-core-web-sm==3.7.1) (3.7)\n",
            "Requirement already satisfied: urllib3<3,>=1.21.1 in /usr/local/lib/python3.10/dist-packages (from requests<3.0.0,>=2.13.0->spacy<3.8.0,>=3.7.2->en-core-web-sm==3.7.1) (2.0.7)\n",
            "Requirement already satisfied: certifi>=2017.4.17 in /usr/local/lib/python3.10/dist-packages (from requests<3.0.0,>=2.13.0->spacy<3.8.0,>=3.7.2->en-core-web-sm==3.7.1) (2024.2.2)\n",
            "Requirement already satisfied: blis<0.8.0,>=0.7.8 in /usr/local/lib/python3.10/dist-packages (from thinc<8.3.0,>=8.2.2->spacy<3.8.0,>=3.7.2->en-core-web-sm==3.7.1) (0.7.11)\n",
            "Requirement already satisfied: confection<1.0.0,>=0.0.1 in /usr/local/lib/python3.10/dist-packages (from thinc<8.3.0,>=8.2.2->spacy<3.8.0,>=3.7.2->en-core-web-sm==3.7.1) (0.1.4)\n",
            "Requirement already satisfied: click<9.0.0,>=7.1.1 in /usr/local/lib/python3.10/dist-packages (from typer<0.10.0,>=0.3.0->spacy<3.8.0,>=3.7.2->en-core-web-sm==3.7.1) (8.1.7)\n",
            "Requirement already satisfied: cloudpathlib<0.17.0,>=0.7.0 in /usr/local/lib/python3.10/dist-packages (from weasel<0.4.0,>=0.1.0->spacy<3.8.0,>=3.7.2->en-core-web-sm==3.7.1) (0.16.0)\n",
            "Requirement already satisfied: MarkupSafe>=2.0 in /usr/local/lib/python3.10/dist-packages (from jinja2->spacy<3.8.0,>=3.7.2->en-core-web-sm==3.7.1) (2.1.5)\n",
            "Requirement already satisfied: marisa-trie>=0.7.7 in /usr/local/lib/python3.10/dist-packages (from language-data>=1.2->langcodes<4.0.0,>=3.2.0->spacy<3.8.0,>=3.7.2->en-core-web-sm==3.7.1) (1.1.1)\n",
            "\u001b[38;5;2m✔ Download and installation successful\u001b[0m\n",
            "You can now load the package via spacy.load('en_core_web_sm')\n",
            "\u001b[38;5;3m⚠ Restart to reload dependencies\u001b[0m\n",
            "If you are in a Jupyter or Colab notebook, you may need to restart Python in\n",
            "order to load all the package's dependencies. You can do this by selecting the\n",
            "'Restart kernel' or 'Restart runtime' option.\n"
          ]
        }
      ],
      "source": [
        "!pip install -U spacy\n",
        "!python -m spacy download en_core_web_sm"
      ]
    },
    {
      "cell_type": "code",
      "source": [
        "import spacy\n",
        "from spacy.lang.en.stop_words import STOP_WORDS\n",
        "from string import punctuation"
      ],
      "metadata": {
        "id": "3CQcOJGa4Q4U"
      },
      "execution_count": null,
      "outputs": []
    },
    {
      "cell_type": "code",
      "source": [
        "from heapq import nlargest"
      ],
      "metadata": {
        "id": "uCZuHIjd4xaW"
      },
      "execution_count": null,
      "outputs": []
    },
    {
      "cell_type": "code",
      "source": [
        "stopwords=list(STOP_WORDS)\n",
        "stopwords"
      ],
      "metadata": {
        "colab": {
          "base_uri": "https://localhost:8080/"
        },
        "id": "VJrxQkgc43DE",
        "outputId": "6f317ea5-4db0-4e37-effb-4cc1eb80882e"
      },
      "execution_count": null,
      "outputs": [
        {
          "output_type": "execute_result",
          "data": {
            "text/plain": [
              "[\"'re\",\n",
              " 'full',\n",
              " 'then',\n",
              " 'whither',\n",
              " 'name',\n",
              " 'their',\n",
              " 'back',\n",
              " 'over',\n",
              " '’ve',\n",
              " 'throughout',\n",
              " 'anywhere',\n",
              " 'do',\n",
              " 'often',\n",
              " 'latterly',\n",
              " 'although',\n",
              " 'my',\n",
              " '’m',\n",
              " 'indeed',\n",
              " 'becomes',\n",
              " 'no',\n",
              " 'towards',\n",
              " 'afterwards',\n",
              " 're',\n",
              " 'through',\n",
              " 'forty',\n",
              " 'from',\n",
              " 'behind',\n",
              " 'three',\n",
              " 'were',\n",
              " 'call',\n",
              " 'much',\n",
              " 'all',\n",
              " 'so',\n",
              " 'various',\n",
              " 'anything',\n",
              " 'nevertheless',\n",
              " 'together',\n",
              " 'nothing',\n",
              " 'yourself',\n",
              " 'latter',\n",
              " 'ourselves',\n",
              " 'what',\n",
              " 'mine',\n",
              " 'five',\n",
              " 'always',\n",
              " 'he',\n",
              " 'nor',\n",
              " 'when',\n",
              " 'amongst',\n",
              " 'the',\n",
              " 'him',\n",
              " 'other',\n",
              " 'whose',\n",
              " 'sometime',\n",
              " 'also',\n",
              " 'even',\n",
              " 'more',\n",
              " 'former',\n",
              " 'fifteen',\n",
              " 'almost',\n",
              " 'elsewhere',\n",
              " 'but',\n",
              " 'nine',\n",
              " 'a',\n",
              " 'onto',\n",
              " 'yet',\n",
              " 'make',\n",
              " 'only',\n",
              " 'up',\n",
              " 'whether',\n",
              " 'being',\n",
              " 'after',\n",
              " 'someone',\n",
              " 'put',\n",
              " 'few',\n",
              " 'with',\n",
              " 'somehow',\n",
              " 'until',\n",
              " 'about',\n",
              " 'since',\n",
              " 'around',\n",
              " 'she',\n",
              " 'six',\n",
              " 'perhaps',\n",
              " 'ours',\n",
              " 'nowhere',\n",
              " \"'s\",\n",
              " 'wherein',\n",
              " 'whereafter',\n",
              " 'made',\n",
              " 'within',\n",
              " 'everyone',\n",
              " 'really',\n",
              " 'ten',\n",
              " 'whole',\n",
              " 'above',\n",
              " 'hence',\n",
              " '’d',\n",
              " 'whom',\n",
              " 'quite',\n",
              " 'same',\n",
              " 'as',\n",
              " 'before',\n",
              " 'fifty',\n",
              " 'than',\n",
              " 'top',\n",
              " 'part',\n",
              " 'beyond',\n",
              " 'while',\n",
              " 'upon',\n",
              " 'must',\n",
              " 'regarding',\n",
              " '‘m',\n",
              " 'and',\n",
              " 'anyhow',\n",
              " 'own',\n",
              " '‘ll',\n",
              " 'thereby',\n",
              " 'across',\n",
              " 'itself',\n",
              " 'empty',\n",
              " 'third',\n",
              " 'eleven',\n",
              " 'under',\n",
              " 'please',\n",
              " 'very',\n",
              " 'get',\n",
              " 'front',\n",
              " 'eight',\n",
              " '’s',\n",
              " 'twelve',\n",
              " 'formerly',\n",
              " 'may',\n",
              " 'move',\n",
              " 'done',\n",
              " 'during',\n",
              " 'everything',\n",
              " 'less',\n",
              " 'us',\n",
              " 'yourselves',\n",
              " 'therein',\n",
              " 'whenever',\n",
              " 'seeming',\n",
              " '‘ve',\n",
              " 'anyway',\n",
              " 'though',\n",
              " 'thereupon',\n",
              " 'moreover',\n",
              " 'below',\n",
              " 'besides',\n",
              " 'hereafter',\n",
              " 'thus',\n",
              " 'i',\n",
              " 'down',\n",
              " 'not',\n",
              " 'therefore',\n",
              " 'toward',\n",
              " 'still',\n",
              " 'into',\n",
              " 'both',\n",
              " 'did',\n",
              " 'his',\n",
              " 'of',\n",
              " 'just',\n",
              " 'themselves',\n",
              " 'first',\n",
              " 'using',\n",
              " 'another',\n",
              " 'go',\n",
              " 'these',\n",
              " 'seemed',\n",
              " 'here',\n",
              " 'keep',\n",
              " 'was',\n",
              " 'else',\n",
              " 'this',\n",
              " 'against',\n",
              " 'would',\n",
              " 'nobody',\n",
              " 'among',\n",
              " 'others',\n",
              " 'herein',\n",
              " 'hereupon',\n",
              " 'namely',\n",
              " \"'d\",\n",
              " 'show',\n",
              " 'yours',\n",
              " 'amount',\n",
              " 'for',\n",
              " 'unless',\n",
              " 'had',\n",
              " 'your',\n",
              " 'have',\n",
              " 'they',\n",
              " 'beside',\n",
              " 'never',\n",
              " \"'m\",\n",
              " 'you',\n",
              " 'them',\n",
              " 'some',\n",
              " 'be',\n",
              " 'has',\n",
              " 'rather',\n",
              " 'hers',\n",
              " 'two',\n",
              " 'an',\n",
              " 'either',\n",
              " 'how',\n",
              " '‘re',\n",
              " 'without',\n",
              " 'become',\n",
              " 'further',\n",
              " 'himself',\n",
              " 'now',\n",
              " 'whereby',\n",
              " 'hundred',\n",
              " '‘d',\n",
              " 'everywhere',\n",
              " 'that',\n",
              " 'cannot',\n",
              " 'thru',\n",
              " 'hereby',\n",
              " 'already',\n",
              " '‘s',\n",
              " 'might',\n",
              " 'beforehand',\n",
              " 'it',\n",
              " 'can',\n",
              " 'whereas',\n",
              " 'at',\n",
              " 'say',\n",
              " 'mostly',\n",
              " 'between',\n",
              " 'if',\n",
              " 'four',\n",
              " 'whence',\n",
              " 'once',\n",
              " \"n't\",\n",
              " 'her',\n",
              " 'many',\n",
              " 'due',\n",
              " 'along',\n",
              " 'does',\n",
              " 'seems',\n",
              " 'whatever',\n",
              " 'becoming',\n",
              " 'alone',\n",
              " \"'ll\",\n",
              " 'why',\n",
              " 'on',\n",
              " 'to',\n",
              " 'herself',\n",
              " 'most',\n",
              " 'off',\n",
              " 'doing',\n",
              " 'enough',\n",
              " 'wherever',\n",
              " 'noone',\n",
              " 'per',\n",
              " 'least',\n",
              " 'should',\n",
              " 'via',\n",
              " 'by',\n",
              " 'any',\n",
              " 'is',\n",
              " 'each',\n",
              " 'such',\n",
              " 'because',\n",
              " 'me',\n",
              " 'been',\n",
              " 'one',\n",
              " 'see',\n",
              " 'could',\n",
              " 'became',\n",
              " 'take',\n",
              " 'last',\n",
              " 'who',\n",
              " 'give',\n",
              " 'bottom',\n",
              " 'or',\n",
              " 'however',\n",
              " 'we',\n",
              " 'thence',\n",
              " 'neither',\n",
              " 'too',\n",
              " 'our',\n",
              " 'will',\n",
              " 'next',\n",
              " 'seem',\n",
              " 'there',\n",
              " 'somewhere',\n",
              " 'its',\n",
              " 'serious',\n",
              " 'otherwise',\n",
              " 'ca',\n",
              " '’ll',\n",
              " 'which',\n",
              " 'twenty',\n",
              " 'except',\n",
              " 'n‘t',\n",
              " 'out',\n",
              " 'side',\n",
              " 'n’t',\n",
              " 'used',\n",
              " 'several',\n",
              " 'are',\n",
              " 'am',\n",
              " 'whereupon',\n",
              " 'something',\n",
              " 'thereafter',\n",
              " 'well',\n",
              " \"'ve\",\n",
              " '’re',\n",
              " 'where',\n",
              " 'meanwhile',\n",
              " 'ever',\n",
              " 'sixty',\n",
              " 'those',\n",
              " 'again',\n",
              " 'every',\n",
              " 'in',\n",
              " 'whoever',\n",
              " 'anyone',\n",
              " 'myself',\n",
              " 'sometimes',\n",
              " 'none']"
            ]
          },
          "metadata": {},
          "execution_count": 3
        }
      ]
    },
    {
      "cell_type": "code",
      "source": [
        "punctuation = punctuation + '\\n'\n",
        "punctuation\n"
      ],
      "metadata": {
        "colab": {
          "base_uri": "https://localhost:8080/",
          "height": 35
        },
        "id": "TFiz1ByZ5LCo",
        "outputId": "608edc6d-3c5b-4eb5-e0b7-84cb5a0b781b"
      },
      "execution_count": null,
      "outputs": [
        {
          "output_type": "execute_result",
          "data": {
            "text/plain": [
              "'!\"#$%&\\'()*+,-./:;<=>?@[\\\\]^_`{|}~\\n'"
            ],
            "application/vnd.google.colaboratory.intrinsic+json": {
              "type": "string"
            }
          },
          "metadata": {},
          "execution_count": 4
        }
      ]
    },
    {
      "cell_type": "code",
      "source": [
        "text = \"\"\"\n",
        "I. IntroductionChatGPT, a form of the GPT (Generative Pre-trainedTransformer) architecture, is instructed on a huge quantity oftext data, allowing it to effectively capture patterns inlanguage and generate human-like responses. The model hasbeen shown to perform well on a variation of NLP tasks i.e.question answering, generation of text, and sentimentanalysis.The buildout of NPL (natural language processing) hasenabled computers to learn & generate human language,which has opened up new possibilities for technology invarious industries, including customer service, education, andentertainment. One of the most promising NLP modelsdeveloped in recent years is ChatGPT, which is a variation ofthe GPT (Generative Pre-trained Transformer) architecture.This essay provides an overview of ChatGPT and its potentialapplications in the NLP field.A language model called ChatGPT uses deep learningtechniques to comprehend and produce writing that soundshuman. It is instructed on an enormous quantity of text data,allowing it to effectively capture patterns in language andrespond to queries such that it mimics human conversation.This makes ChatGPT well-suited for use in dialoguegeneration and conversation-based applications, such ascustomer service chatbots.The main benefit of ChatGPT is has improved accuracycompared with traditional NLP tools. Unlike traditional NLPmodels, which often rely on rule-based approaches and relyon human-defined dictionaries and grammar, ChatGPT usesdeep learning algorithms to learn from the data it is trainedon. This results in a model that is capable of generating morehuman-like responses, as well as recognizing patterns inlanguage that traditional NLP models may miss.In addition to its improved accuracy, ChatGPT is also highlyflexible, allowing it to be the first pick for several NLP tasks,i.e. Q/A, text generation, and sentiment analysis. This allowsorganizations to customize the model to meet their specificneeds, making it a valuable resource for an extensive span ofindustries.While ChatGPT offers many advantages, it is not without itslimitations. One of the main challenges with ChatGPT is itslarge size and computational requirements, which can makedeployment in certain settings challenging. Additionally,some of the worries are associated with the ethical impact ofusing large models of language, such as the perpetuation ofbiases in language and the possibility for the replica togenerate harmful conte\n",
        "\n",
        "(15) (PDF) Conversational AI for Natural Language Processing: An Review of ChatGPT. Available from: https://www.researchgate.net/publication/369374439_Conversational_AI_for_Natural_Language_Processing_An_Review_of_ChatGPT [accessed May 31 2024].\"\"\""
      ],
      "metadata": {
        "id": "ZflQQkpw5Tn0"
      },
      "execution_count": null,
      "outputs": []
    },
    {
      "cell_type": "code",
      "source": [
        "nlp = spacy.load('en_core_web_sm')"
      ],
      "metadata": {
        "id": "1NJ6N7TW6FsE"
      },
      "execution_count": null,
      "outputs": []
    },
    {
      "cell_type": "code",
      "source": [
        "doc=nlp(text)"
      ],
      "metadata": {
        "id": "dWSVR4KR6oNQ"
      },
      "execution_count": null,
      "outputs": []
    },
    {
      "cell_type": "code",
      "source": [
        "tokens = [token.text for token in doc]\n",
        "print(tokens)"
      ],
      "metadata": {
        "colab": {
          "base_uri": "https://localhost:8080/"
        },
        "id": "iHpYT90i6xO5",
        "outputId": "775cf899-9869-48d7-b123-8cb7b5f930b7"
      },
      "execution_count": null,
      "outputs": [
        {
          "output_type": "stream",
          "name": "stdout",
          "text": [
            "['\\n', 'I.', 'IntroductionChatGPT', ',', 'a', 'form', 'of', 'the', 'GPT', '(', 'Generative', 'Pre', '-', 'trainedTransformer', ')', 'architecture', ',', 'is', 'instructed', 'on', 'a', 'huge', 'quantity', 'oftext', 'data', ',', 'allowing', 'it', 'to', 'effectively', 'capture', 'patterns', 'inlanguage', 'and', 'generate', 'human', '-', 'like', 'responses', '.', 'The', 'model', 'hasbeen', 'shown', 'to', 'perform', 'well', 'on', 'a', 'variation', 'of', 'NLP', 'tasks', 'i.e.question', 'answering', ',', 'generation', 'of', 'text', ',', 'and', 'sentimentanalysis', '.', 'The', 'buildout', 'of', 'NPL', '(', 'natural', 'language', 'processing', ')', 'hasenabled', 'computers', 'to', 'learn', '&', 'generate', 'human', 'language', ',', 'which', 'has', 'opened', 'up', 'new', 'possibilities', 'for', 'technology', 'invarious', 'industries', ',', 'including', 'customer', 'service', ',', 'education', ',', 'andentertainment', '.', 'One', 'of', 'the', 'most', 'promising', 'NLP', 'modelsdeveloped', 'in', 'recent', 'years', 'is', 'ChatGPT', ',', 'which', 'is', 'a', 'variation', 'ofthe', 'GPT', '(', 'Generative', 'Pre', '-', 'trained', 'Transformer', ')', 'architecture', '.', 'This', 'essay', 'provides', 'an', 'overview', 'of', 'ChatGPT', 'and', 'its', 'potentialapplications', 'in', 'the', 'NLP', 'field', '.', 'A', 'language', 'model', 'called', 'ChatGPT', 'uses', 'deep', 'learningtechniques', 'to', 'comprehend', 'and', 'produce', 'writing', 'that', 'soundshuman', '.', 'It', 'is', 'instructed', 'on', 'an', 'enormous', 'quantity', 'of', 'text', 'data', ',', 'allowing', 'it', 'to', 'effectively', 'capture', 'patterns', 'in', 'language', 'andrespond', 'to', 'queries', 'such', 'that', 'it', 'mimics', 'human', 'conversation', '.', 'This', 'makes', 'ChatGPT', 'well', '-', 'suited', 'for', 'use', 'in', 'dialoguegeneration', 'and', 'conversation', '-', 'based', 'applications', ',', 'such', 'ascustomer', 'service', 'chatbots', '.', 'The', 'main', 'benefit', 'of', 'ChatGPT', 'is', 'has', 'improved', 'accuracycompared', 'with', 'traditional', 'NLP', 'tools', '.', 'Unlike', 'traditional', 'NLPmodels', ',', 'which', 'often', 'rely', 'on', 'rule', '-', 'based', 'approaches', 'and', 'relyon', 'human', '-', 'defined', 'dictionaries', 'and', 'grammar', ',', 'ChatGPT', 'usesdeep', 'learning', 'algorithms', 'to', 'learn', 'from', 'the', 'data', 'it', 'is', 'trainedon', '.', 'This', 'results', 'in', 'a', 'model', 'that', 'is', 'capable', 'of', 'generating', 'morehuman', '-', 'like', 'responses', ',', 'as', 'well', 'as', 'recognizing', 'patterns', 'inlanguage', 'that', 'traditional', 'NLP', 'models', 'may', 'miss', '.', 'In', 'addition', 'to', 'its', 'improved', 'accuracy', ',', 'ChatGPT', 'is', 'also', 'highlyflexible', ',', 'allowing', 'it', 'to', 'be', 'the', 'first', 'pick', 'for', 'several', 'NLP', 'tasks', ',', 'i.e.', 'Q', '/', 'A', ',', 'text', 'generation', ',', 'and', 'sentiment', 'analysis', '.', 'This', 'allowsorganizations', 'to', 'customize', 'the', 'model', 'to', 'meet', 'their', 'specificneeds', ',', 'making', 'it', 'a', 'valuable', 'resource', 'for', 'an', 'extensive', 'span', 'ofindustries', '.', 'While', 'ChatGPT', 'offers', 'many', 'advantages', ',', 'it', 'is', 'not', 'without', 'itslimitations', '.', 'One', 'of', 'the', 'main', 'challenges', 'with', 'ChatGPT', 'is', 'itslarge', 'size', 'and', 'computational', 'requirements', ',', 'which', 'can', 'makedeployment', 'in', 'certain', 'settings', 'challenging', '.', 'Additionally', ',', 'some', 'of', 'the', 'worries', 'are', 'associated', 'with', 'the', 'ethical', 'impact', 'ofusing', 'large', 'models', 'of', 'language', ',', 'such', 'as', 'the', 'perpetuation', 'ofbiases', 'in', 'language', 'and', 'the', 'possibility', 'for', 'the', 'replica', 'togenerate', 'harmful', 'conte', '\\n\\n', '(', '15', ')', '(', 'PDF', ')', 'Conversational', 'AI', 'for', 'Natural', 'Language', 'Processing', ':', 'An', 'Review', 'of', 'ChatGPT', '.', 'Available', 'from', ':', 'https://www.researchgate.net/publication/369374439_Conversational_AI_for_Natural_Language_Processing_An_Review_of_ChatGPT', '[', 'accessed', 'May', '31', '2024', ']', '.']\n"
          ]
        }
      ]
    },
    {
      "cell_type": "code",
      "source": [
        "word_frequencies = {}\n",
        "for word in doc:\n",
        "  if word.text.lower() not in stopwords:\n",
        "    if word.text.lower() not in punctuation:\n",
        "      if word.text not in word_frequencies.keys():\n",
        "        word_frequencies[word.text] = 1\n",
        "      else:\n",
        "        word_frequencies[word.text] += 1\n",
        "print(word_frequencies)"
      ],
      "metadata": {
        "colab": {
          "base_uri": "https://localhost:8080/"
        },
        "id": "XNk7L1bC68l8",
        "outputId": "2cce1eab-8a5a-4b3d-be13-4a0e89f424a4"
      },
      "execution_count": null,
      "outputs": [
        {
          "output_type": "stream",
          "name": "stdout",
          "text": [
            "{'I.': 1, 'IntroductionChatGPT': 1, 'form': 1, 'GPT': 2, 'Generative': 2, 'Pre': 2, 'trainedTransformer': 1, 'architecture': 2, 'instructed': 2, 'huge': 1, 'quantity': 2, 'oftext': 1, 'data': 3, 'allowing': 3, 'effectively': 2, 'capture': 2, 'patterns': 3, 'inlanguage': 2, 'generate': 2, 'human': 4, 'like': 2, 'responses': 2, 'model': 4, 'hasbeen': 1, 'shown': 1, 'perform': 1, 'variation': 2, 'NLP': 6, 'tasks': 2, 'i.e.question': 1, 'answering': 1, 'generation': 2, 'text': 3, 'sentimentanalysis': 1, 'buildout': 1, 'NPL': 1, 'natural': 1, 'language': 6, 'processing': 1, 'hasenabled': 1, 'computers': 1, 'learn': 2, 'opened': 1, 'new': 1, 'possibilities': 1, 'technology': 1, 'invarious': 1, 'industries': 1, 'including': 1, 'customer': 1, 'service': 2, 'education': 1, 'andentertainment': 1, 'promising': 1, 'modelsdeveloped': 1, 'recent': 1, 'years': 1, 'ChatGPT': 10, 'ofthe': 1, 'trained': 1, 'Transformer': 1, 'essay': 1, 'provides': 1, 'overview': 1, 'potentialapplications': 1, 'field': 1, 'called': 1, 'uses': 1, 'deep': 1, 'learningtechniques': 1, 'comprehend': 1, 'produce': 1, 'writing': 1, 'soundshuman': 1, 'enormous': 1, 'andrespond': 1, 'queries': 1, 'mimics': 1, 'conversation': 2, 'makes': 1, 'suited': 1, 'use': 1, 'dialoguegeneration': 1, 'based': 2, 'applications': 1, 'ascustomer': 1, 'chatbots': 1, 'main': 2, 'benefit': 1, 'improved': 2, 'accuracycompared': 1, 'traditional': 3, 'tools': 1, 'Unlike': 1, 'NLPmodels': 1, 'rely': 1, 'rule': 1, 'approaches': 1, 'relyon': 1, 'defined': 1, 'dictionaries': 1, 'grammar': 1, 'usesdeep': 1, 'learning': 1, 'algorithms': 1, 'trainedon': 1, 'results': 1, 'capable': 1, 'generating': 1, 'morehuman': 1, 'recognizing': 1, 'models': 2, 'miss': 1, 'addition': 1, 'accuracy': 1, 'highlyflexible': 1, 'pick': 1, 'i.e.': 1, 'Q': 1, 'sentiment': 1, 'analysis': 1, 'allowsorganizations': 1, 'customize': 1, 'meet': 1, 'specificneeds': 1, 'making': 1, 'valuable': 1, 'resource': 1, 'extensive': 1, 'span': 1, 'ofindustries': 1, 'offers': 1, 'advantages': 1, 'itslimitations': 1, 'challenges': 1, 'itslarge': 1, 'size': 1, 'computational': 1, 'requirements': 1, 'makedeployment': 1, 'certain': 1, 'settings': 1, 'challenging': 1, 'Additionally': 1, 'worries': 1, 'associated': 1, 'ethical': 1, 'impact': 1, 'ofusing': 1, 'large': 1, 'perpetuation': 1, 'ofbiases': 1, 'possibility': 1, 'replica': 1, 'togenerate': 1, 'harmful': 1, 'conte': 1, '\\n\\n': 1, '15': 1, 'PDF': 1, 'Conversational': 1, 'AI': 1, 'Natural': 1, 'Language': 1, 'Processing': 1, 'Review': 1, 'Available': 1, 'https://www.researchgate.net/publication/369374439_Conversational_AI_for_Natural_Language_Processing_An_Review_of_ChatGPT': 1, 'accessed': 1, '31': 1, '2024': 1}\n"
          ]
        }
      ]
    },
    {
      "cell_type": "code",
      "source": [
        "max_frequency = max(word_frequencies.values())\n",
        "max_frequency"
      ],
      "metadata": {
        "colab": {
          "base_uri": "https://localhost:8080/"
        },
        "id": "3dHJdUF277nX",
        "outputId": "1b87cb01-cc9d-4e7d-bd2b-80f9273df440"
      },
      "execution_count": null,
      "outputs": [
        {
          "output_type": "execute_result",
          "data": {
            "text/plain": [
              "10"
            ]
          },
          "metadata": {},
          "execution_count": 13
        }
      ]
    },
    {
      "cell_type": "code",
      "source": [
        "for word in word_frequencies.keys():\n",
        "  word_frequencies[word]=word_frequencies[word]/max_frequency\n",
        "  print(word + \" \")\n",
        "  print(word_frequencies[word])"
      ],
      "metadata": {
        "colab": {
          "base_uri": "https://localhost:8080/"
        },
        "id": "obXO7aTa8L2g",
        "outputId": "dd505aee-271a-4705-b2e9-871dff81fd26"
      },
      "execution_count": null,
      "outputs": [
        {
          "output_type": "stream",
          "name": "stdout",
          "text": [
            "I. \n",
            "0.1\n",
            "IntroductionChatGPT \n",
            "0.1\n",
            "form \n",
            "0.1\n",
            "GPT \n",
            "0.2\n",
            "Generative \n",
            "0.2\n",
            "Pre \n",
            "0.2\n",
            "trainedTransformer \n",
            "0.1\n",
            "architecture \n",
            "0.2\n",
            "instructed \n",
            "0.2\n",
            "huge \n",
            "0.1\n",
            "quantity \n",
            "0.2\n",
            "oftext \n",
            "0.1\n",
            "data \n",
            "0.3\n",
            "allowing \n",
            "0.3\n",
            "effectively \n",
            "0.2\n",
            "capture \n",
            "0.2\n",
            "patterns \n",
            "0.3\n",
            "inlanguage \n",
            "0.2\n",
            "generate \n",
            "0.2\n",
            "human \n",
            "0.4\n",
            "like \n",
            "0.2\n",
            "responses \n",
            "0.2\n",
            "model \n",
            "0.4\n",
            "hasbeen \n",
            "0.1\n",
            "shown \n",
            "0.1\n",
            "perform \n",
            "0.1\n",
            "variation \n",
            "0.2\n",
            "NLP \n",
            "0.6\n",
            "tasks \n",
            "0.2\n",
            "i.e.question \n",
            "0.1\n",
            "answering \n",
            "0.1\n",
            "generation \n",
            "0.2\n",
            "text \n",
            "0.3\n",
            "sentimentanalysis \n",
            "0.1\n",
            "buildout \n",
            "0.1\n",
            "NPL \n",
            "0.1\n",
            "natural \n",
            "0.1\n",
            "language \n",
            "0.6\n",
            "processing \n",
            "0.1\n",
            "hasenabled \n",
            "0.1\n",
            "computers \n",
            "0.1\n",
            "learn \n",
            "0.2\n",
            "opened \n",
            "0.1\n",
            "new \n",
            "0.1\n",
            "possibilities \n",
            "0.1\n",
            "technology \n",
            "0.1\n",
            "invarious \n",
            "0.1\n",
            "industries \n",
            "0.1\n",
            "including \n",
            "0.1\n",
            "customer \n",
            "0.1\n",
            "service \n",
            "0.2\n",
            "education \n",
            "0.1\n",
            "andentertainment \n",
            "0.1\n",
            "promising \n",
            "0.1\n",
            "modelsdeveloped \n",
            "0.1\n",
            "recent \n",
            "0.1\n",
            "years \n",
            "0.1\n",
            "ChatGPT \n",
            "1.0\n",
            "ofthe \n",
            "0.1\n",
            "trained \n",
            "0.1\n",
            "Transformer \n",
            "0.1\n",
            "essay \n",
            "0.1\n",
            "provides \n",
            "0.1\n",
            "overview \n",
            "0.1\n",
            "potentialapplications \n",
            "0.1\n",
            "field \n",
            "0.1\n",
            "called \n",
            "0.1\n",
            "uses \n",
            "0.1\n",
            "deep \n",
            "0.1\n",
            "learningtechniques \n",
            "0.1\n",
            "comprehend \n",
            "0.1\n",
            "produce \n",
            "0.1\n",
            "writing \n",
            "0.1\n",
            "soundshuman \n",
            "0.1\n",
            "enormous \n",
            "0.1\n",
            "andrespond \n",
            "0.1\n",
            "queries \n",
            "0.1\n",
            "mimics \n",
            "0.1\n",
            "conversation \n",
            "0.2\n",
            "makes \n",
            "0.1\n",
            "suited \n",
            "0.1\n",
            "use \n",
            "0.1\n",
            "dialoguegeneration \n",
            "0.1\n",
            "based \n",
            "0.2\n",
            "applications \n",
            "0.1\n",
            "ascustomer \n",
            "0.1\n",
            "chatbots \n",
            "0.1\n",
            "main \n",
            "0.2\n",
            "benefit \n",
            "0.1\n",
            "improved \n",
            "0.2\n",
            "accuracycompared \n",
            "0.1\n",
            "traditional \n",
            "0.3\n",
            "tools \n",
            "0.1\n",
            "Unlike \n",
            "0.1\n",
            "NLPmodels \n",
            "0.1\n",
            "rely \n",
            "0.1\n",
            "rule \n",
            "0.1\n",
            "approaches \n",
            "0.1\n",
            "relyon \n",
            "0.1\n",
            "defined \n",
            "0.1\n",
            "dictionaries \n",
            "0.1\n",
            "grammar \n",
            "0.1\n",
            "usesdeep \n",
            "0.1\n",
            "learning \n",
            "0.1\n",
            "algorithms \n",
            "0.1\n",
            "trainedon \n",
            "0.1\n",
            "results \n",
            "0.1\n",
            "capable \n",
            "0.1\n",
            "generating \n",
            "0.1\n",
            "morehuman \n",
            "0.1\n",
            "recognizing \n",
            "0.1\n",
            "models \n",
            "0.2\n",
            "miss \n",
            "0.1\n",
            "addition \n",
            "0.1\n",
            "accuracy \n",
            "0.1\n",
            "highlyflexible \n",
            "0.1\n",
            "pick \n",
            "0.1\n",
            "i.e. \n",
            "0.1\n",
            "Q \n",
            "0.1\n",
            "sentiment \n",
            "0.1\n",
            "analysis \n",
            "0.1\n",
            "allowsorganizations \n",
            "0.1\n",
            "customize \n",
            "0.1\n",
            "meet \n",
            "0.1\n",
            "specificneeds \n",
            "0.1\n",
            "making \n",
            "0.1\n",
            "valuable \n",
            "0.1\n",
            "resource \n",
            "0.1\n",
            "extensive \n",
            "0.1\n",
            "span \n",
            "0.1\n",
            "ofindustries \n",
            "0.1\n",
            "offers \n",
            "0.1\n",
            "advantages \n",
            "0.1\n",
            "itslimitations \n",
            "0.1\n",
            "challenges \n",
            "0.1\n",
            "itslarge \n",
            "0.1\n",
            "size \n",
            "0.1\n",
            "computational \n",
            "0.1\n",
            "requirements \n",
            "0.1\n",
            "makedeployment \n",
            "0.1\n",
            "certain \n",
            "0.1\n",
            "settings \n",
            "0.1\n",
            "challenging \n",
            "0.1\n",
            "Additionally \n",
            "0.1\n",
            "worries \n",
            "0.1\n",
            "associated \n",
            "0.1\n",
            "ethical \n",
            "0.1\n",
            "impact \n",
            "0.1\n",
            "ofusing \n",
            "0.1\n",
            "large \n",
            "0.1\n",
            "perpetuation \n",
            "0.1\n",
            "ofbiases \n",
            "0.1\n",
            "possibility \n",
            "0.1\n",
            "replica \n",
            "0.1\n",
            "togenerate \n",
            "0.1\n",
            "harmful \n",
            "0.1\n",
            "conte \n",
            "0.1\n",
            "\n",
            "\n",
            " \n",
            "0.1\n",
            "15 \n",
            "0.1\n",
            "PDF \n",
            "0.1\n",
            "Conversational \n",
            "0.1\n",
            "AI \n",
            "0.1\n",
            "Natural \n",
            "0.1\n",
            "Language \n",
            "0.1\n",
            "Processing \n",
            "0.1\n",
            "Review \n",
            "0.1\n",
            "Available \n",
            "0.1\n",
            "https://www.researchgate.net/publication/369374439_Conversational_AI_for_Natural_Language_Processing_An_Review_of_ChatGPT \n",
            "0.1\n",
            "accessed \n",
            "0.1\n",
            "31 \n",
            "0.1\n",
            "2024 \n",
            "0.1\n"
          ]
        }
      ]
    },
    {
      "cell_type": "code",
      "source": [
        "sentence_tokens=[sent for sent in doc.sents]\n",
        "print(sentence_tokens)"
      ],
      "metadata": {
        "colab": {
          "base_uri": "https://localhost:8080/"
        },
        "id": "0Avdv6Td8giT",
        "outputId": "96267008-8559-4813-fcf3-2135815414a3"
      },
      "execution_count": null,
      "outputs": [
        {
          "output_type": "stream",
          "name": "stdout",
          "text": [
            "[\n",
            "I. IntroductionChatGPT, a form of the GPT (Generative Pre-trainedTransformer) architecture, is instructed on a huge quantity oftext data, allowing it to effectively capture patterns inlanguage and generate human-like responses., The model hasbeen shown to perform well on a variation of NLP tasks i.e.question answering, generation of text, and sentimentanalysis., The buildout of NPL (natural language processing) hasenabled computers to learn & generate human language,which has opened up new possibilities for technology invarious industries, including customer service, education, andentertainment., One of the most promising NLP modelsdeveloped in recent years is ChatGPT, which is a variation ofthe GPT (Generative Pre-trained Transformer) architecture., This essay provides an overview of ChatGPT and its potentialapplications in the NLP field., A language model called ChatGPT uses deep learningtechniques to comprehend and produce writing that soundshuman., It is instructed on an enormous quantity of text data,allowing it to effectively capture patterns in language andrespond to queries such that it mimics human conversation., This makes ChatGPT well-suited for use in dialoguegeneration and conversation-based applications, such ascustomer service chatbots., The main benefit of ChatGPT is has improved accuracycompared with traditional NLP tools., Unlike traditional NLPmodels, which often rely on rule-based approaches and relyon human-defined dictionaries and grammar, ChatGPT usesdeep learning algorithms to learn from the data it is trainedon., This results in a model that is capable of generating morehuman-like responses, as well as recognizing patterns inlanguage that traditional NLP models may miss., In addition to its improved accuracy, ChatGPT is also highlyflexible, allowing it to be the first pick for several NLP tasks,i.e. Q/A, text generation, and sentiment analysis., This allowsorganizations to customize the model to meet their specificneeds, making it a valuable resource for an extensive span ofindustries., While ChatGPT offers many advantages, it is not without itslimitations., One of the main challenges with ChatGPT is itslarge size and computational requirements, which can makedeployment in certain settings challenging., Additionally,some of the worries are associated with the ethical impact ofusing large models of language, such as the perpetuation ofbiases in language and the possibility for the replica togenerate harmful conte \n",
            "\n",
            "(15) (PDF) Conversational AI for Natural Language Processing: An Review of ChatGPT., Available from: https://www.researchgate.net/publication/369374439_Conversational_AI_for_Natural_Language_Processing_An_Review_of_ChatGPT [accessed May 31 2024].]\n"
          ]
        }
      ]
    },
    {
      "cell_type": "code",
      "source": [
        "sentence_scores = {}\n",
        "for sent in sentence_tokens:\n",
        "  for word in sent:\n",
        "    if word.text.lower() in word_frequencies.keys():\n",
        "      if sent not in sentence_scores.keys():\n",
        "        sentence_scores[sent] = word_frequencies[word.text.lower()]\n",
        "      else:\n",
        "        sentence_scores[sent] += word_frequencies[word.text.lower()]\n",
        "sentence_scores"
      ],
      "metadata": {
        "colab": {
          "base_uri": "https://localhost:8080/"
        },
        "id": "Is-UIpQB8waU",
        "outputId": "9ef2da0c-ff69-4466-fd81-85ce82c00274"
      },
      "execution_count": null,
      "outputs": [
        {
          "output_type": "execute_result",
          "data": {
            "text/plain": [
              "{\n",
              " I. IntroductionChatGPT, a form of the GPT (Generative Pre-trainedTransformer) architecture, is instructed on a huge quantity oftext data, allowing it to effectively capture patterns inlanguage and generate human-like responses.: 3.4000000000000004,\n",
              " The model hasbeen shown to perform well on a variation of NLP tasks i.e.question answering, generation of text, and sentimentanalysis.: 1.9000000000000001,\n",
              " The buildout of NPL (natural language processing) hasenabled computers to learn & generate human language,which has opened up new possibilities for technology invarious industries, including customer service, education, andentertainment.: 3.700000000000001,\n",
              " One of the most promising NLP modelsdeveloped in recent years is ChatGPT, which is a variation ofthe GPT (Generative Pre-trained Transformer) architecture.: 1.0,\n",
              " This essay provides an overview of ChatGPT and its potentialapplications in the NLP field.: 0.5,\n",
              " A language model called ChatGPT uses deep learningtechniques to comprehend and produce writing that soundshuman.: 1.8000000000000007,\n",
              " It is instructed on an enormous quantity of text data,allowing it to effectively capture patterns in language andrespond to queries such that it mimics human conversation.: 3.6000000000000005,\n",
              " This makes ChatGPT well-suited for use in dialoguegeneration and conversation-based applications, such ascustomer service chatbots.: 1.3,\n",
              " The main benefit of ChatGPT is has improved accuracycompared with traditional NLP tools.: 0.9999999999999999,\n",
              " Unlike traditional NLPmodels, which often rely on rule-based approaches and relyon human-defined dictionaries and grammar, ChatGPT usesdeep learning algorithms to learn from the data it is trainedon.: 2.5000000000000004,\n",
              " This results in a model that is capable of generating morehuman-like responses, as well as recognizing patterns inlanguage that traditional NLP models may miss.: 2.4000000000000004,\n",
              " In addition to its improved accuracy, ChatGPT is also highlyflexible, allowing it to be the first pick for several NLP tasks,i.e. Q/A, text generation, and sentiment analysis.: 1.9000000000000004,\n",
              " This allowsorganizations to customize the model to meet their specificneeds, making it a valuable resource for an extensive span ofindustries.: 1.4000000000000004,\n",
              " While ChatGPT offers many advantages, it is not without itslimitations.: 0.30000000000000004,\n",
              " One of the main challenges with ChatGPT is itslarge size and computational requirements, which can makedeployment in certain settings challenging.: 1.0999999999999999,\n",
              " Additionally,some of the worries are associated with the ethical impact ofusing large models of language, such as the perpetuation ofbiases in language and the possibility for the replica togenerate harmful conte \n",
              " \n",
              " (15) (PDF) Conversational AI for Natural Language Processing: An Review of ChatGPT.: 3.700000000000001,\n",
              " Available from: https://www.researchgate.net/publication/369374439_Conversational_AI_for_Natural_Language_Processing_An_Review_of_ChatGPT [accessed May 31 2024].: 0.30000000000000004}"
            ]
          },
          "metadata": {},
          "execution_count": 17
        }
      ]
    },
    {
      "cell_type": "code",
      "source": [
        "select_length=int(len(sentence_tokens)*0.3) #summary is 30% of the actual content\n",
        "select_length"
      ],
      "metadata": {
        "colab": {
          "base_uri": "https://localhost:8080/"
        },
        "id": "NsIiXDTl9ECb",
        "outputId": "37cd06b2-a1f4-4745-8205-d91a27b5da4f"
      },
      "execution_count": null,
      "outputs": [
        {
          "output_type": "execute_result",
          "data": {
            "text/plain": [
              "5"
            ]
          },
          "metadata": {},
          "execution_count": 18
        }
      ]
    },
    {
      "cell_type": "code",
      "source": [
        "summary = nlargest(select_length,sentence_scores,key = sentence_scores.get)\n",
        "summary"
      ],
      "metadata": {
        "colab": {
          "base_uri": "https://localhost:8080/"
        },
        "id": "5vHZaQhE-QXl",
        "outputId": "2104648d-6c6b-4cac-9db7-4baab46c0836"
      },
      "execution_count": null,
      "outputs": [
        {
          "output_type": "execute_result",
          "data": {
            "text/plain": [
              "[The buildout of NPL (natural language processing) hasenabled computers to learn & generate human language,which has opened up new possibilities for technology invarious industries, including customer service, education, andentertainment.,\n",
              " Additionally,some of the worries are associated with the ethical impact ofusing large models of language, such as the perpetuation ofbiases in language and the possibility for the replica togenerate harmful conte \n",
              " \n",
              " (15) (PDF) Conversational AI for Natural Language Processing: An Review of ChatGPT.,\n",
              " It is instructed on an enormous quantity of text data,allowing it to effectively capture patterns in language andrespond to queries such that it mimics human conversation.,\n",
              " \n",
              " I. IntroductionChatGPT, a form of the GPT (Generative Pre-trainedTransformer) architecture, is instructed on a huge quantity oftext data, allowing it to effectively capture patterns inlanguage and generate human-like responses.,\n",
              " Unlike traditional NLPmodels, which often rely on rule-based approaches and relyon human-defined dictionaries and grammar, ChatGPT usesdeep learning algorithms to learn from the data it is trainedon.]"
            ]
          },
          "metadata": {},
          "execution_count": 19
        }
      ]
    },
    {
      "cell_type": "code",
      "source": [
        "final_summary = [word.text for word in summary]\n",
        "summary = ' '.join(final_summary)"
      ],
      "metadata": {
        "id": "VHnw8kRM-fFt"
      },
      "execution_count": null,
      "outputs": []
    },
    {
      "cell_type": "code",
      "source": [
        "print(text)"
      ],
      "metadata": {
        "colab": {
          "base_uri": "https://localhost:8080/"
        },
        "id": "RuCRSQHv_GSN",
        "outputId": "49851ca7-98d9-4737-f044-40d1f6130444"
      },
      "execution_count": null,
      "outputs": [
        {
          "output_type": "stream",
          "name": "stdout",
          "text": [
            "\n",
            "I. IntroductionChatGPT, a form of the GPT (Generative Pre-trainedTransformer) architecture, is instructed on a huge quantity oftext data, allowing it to effectively capture patterns inlanguage and generate human-like responses. The model hasbeen shown to perform well on a variation of NLP tasks i.e.question answering, generation of text, and sentimentanalysis.The buildout of NPL (natural language processing) hasenabled computers to learn & generate human language,which has opened up new possibilities for technology invarious industries, including customer service, education, andentertainment. One of the most promising NLP modelsdeveloped in recent years is ChatGPT, which is a variation ofthe GPT (Generative Pre-trained Transformer) architecture.This essay provides an overview of ChatGPT and its potentialapplications in the NLP field.A language model called ChatGPT uses deep learningtechniques to comprehend and produce writing that soundshuman. It is instructed on an enormous quantity of text data,allowing it to effectively capture patterns in language andrespond to queries such that it mimics human conversation.This makes ChatGPT well-suited for use in dialoguegeneration and conversation-based applications, such ascustomer service chatbots.The main benefit of ChatGPT is has improved accuracycompared with traditional NLP tools. Unlike traditional NLPmodels, which often rely on rule-based approaches and relyon human-defined dictionaries and grammar, ChatGPT usesdeep learning algorithms to learn from the data it is trainedon. This results in a model that is capable of generating morehuman-like responses, as well as recognizing patterns inlanguage that traditional NLP models may miss.In addition to its improved accuracy, ChatGPT is also highlyflexible, allowing it to be the first pick for several NLP tasks,i.e. Q/A, text generation, and sentiment analysis. This allowsorganizations to customize the model to meet their specificneeds, making it a valuable resource for an extensive span ofindustries.While ChatGPT offers many advantages, it is not without itslimitations. One of the main challenges with ChatGPT is itslarge size and computational requirements, which can makedeployment in certain settings challenging. Additionally,some of the worries are associated with the ethical impact ofusing large models of language, such as the perpetuation ofbiases in language and the possibility for the replica togenerate harmful conte \n",
            "\n",
            "(15) (PDF) Conversational AI for Natural Language Processing: An Review of ChatGPT. Available from: https://www.researchgate.net/publication/369374439_Conversational_AI_for_Natural_Language_Processing_An_Review_of_ChatGPT [accessed May 31 2024].\n"
          ]
        }
      ]
    },
    {
      "cell_type": "code",
      "source": [
        "len(text)"
      ],
      "metadata": {
        "colab": {
          "base_uri": "https://localhost:8080/"
        },
        "id": "CDBakN_d_Igx",
        "outputId": "7a808080-96e4-48e6-bfbd-c5d5f3200629"
      },
      "execution_count": null,
      "outputs": [
        {
          "output_type": "execute_result",
          "data": {
            "text/plain": [
              "2707"
            ]
          },
          "metadata": {},
          "execution_count": 22
        }
      ]
    },
    {
      "cell_type": "code",
      "source": [
        "len(summary)"
      ],
      "metadata": {
        "id": "b_Xcpwt4_WR6",
        "outputId": "cfc0cfe8-82fa-47b2-fd29-b1cd4a59e093",
        "colab": {
          "base_uri": "https://localhost:8080/"
        }
      },
      "execution_count": null,
      "outputs": [
        {
          "output_type": "execute_result",
          "data": {
            "text/plain": [
              "1137"
            ]
          },
          "metadata": {},
          "execution_count": 23
        }
      ]
    }
  ]
}